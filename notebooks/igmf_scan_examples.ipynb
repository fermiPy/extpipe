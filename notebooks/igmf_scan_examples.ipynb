{
 "cells": [
  {
   "cell_type": "markdown",
   "metadata": {},
   "source": [
    "This notebook demonstrates how to use the classes in `haloanalysis.model` to perform likelihood scans of the IGMF parameter space.  To start with we construct the following:\n",
    "\n",
    "* SED objects for the primary spectrum -- this potentially includes SEDs for both the TeV and GeV regimes\n",
    "* SED for the cascade spectrum\n",
    "* A cascade model object -- this generates the predicted flux and angular size for a given choice of IGMF parameters and primary spectrum\n",
    "* A spectrum object for the primary spectrum parameterization\n",
    "\n",
    "These objects are then used to instantiate a `CascLike` object which is responsible for computing the total model likelihood from the sum of the primary and cascade likelihood functions."
   ]
  },
  {
   "cell_type": "code",
   "execution_count": 11,
   "metadata": {
    "collapsed": false
   },
   "outputs": [],
   "source": [
    "%matplotlib inline\n",
    "from astropy.table import Table\n",
    "import matplotlib.pyplot as plt\n",
    "import matplotlib.cm\n",
    "from fermipy.spectrum import PLExpCutoff\n",
    "from fermipy.castro import CastroData\n",
    "from haloanalysis.model import make_prim_model, make_casc_model\n",
    "from haloanalysis.model import CascModel, CascLike\n",
    "from haloanalysis.utils import Axis\n",
    "from haloanalysis.sed import HaloSED\n",
    "import numpy as np\n",
    "\n",
    "fn = PLExpCutoff([1E-11,-1.5,1E6],scale=1E3)\n",
    "\n",
    "tab_casc = Table.read('1es0229_casc_sed.fits')\n",
    "sed_prim = CastroData.create_from_flux_points('veritas_1es0229.ecsv')\n",
    "sed_casc = HaloSED.create_from_fits(tab_casc[0])\n",
    "hmm = CascModel.create_from_fits('results.fits')\n",
    "hl = CascLike(hmm, fn, sed_casc, sed_prim)"
   ]
  },
  {
   "cell_type": "markdown",
   "metadata": {},
   "source": [
    "Once the cascade likelihood object is instantiated we can build a 2D grid in Lcoh and B for the likelihood scan.  We fill an array with the cascade likelihood values by calling `CascLike.fit` at each point.  This method finds the best-fit parmeters of the primary spectrum given a set of IGMF parameters."
   ]
  },
  {
   "cell_type": "code",
   "execution_count": 12,
   "metadata": {
    "collapsed": true
   },
   "outputs": [],
   "source": [
    "nstep = 11\n",
    "lcoh_scan = np.linspace(-4,4,nstep)\n",
    "igmf_scan = np.linspace(-20,-12,nstep)    \n",
    "bpars = np.meshgrid(lcoh_scan, igmf_scan)\n",
    "\n",
    "model_lnl = np.zeros(bpars[0].shape)*np.nan\n",
    "p1 = fn.params\n",
    "\n",
    "for idx, x in np.ndenumerate(bpars[0]):\n",
    "\n",
    "    p0 = [bpars[0][idx], bpars[1][idx]]\n",
    "    lnl, p1 = hl.fit(p0,p1,method='SLSQP')\n",
    "    model_lnl[idx] = lnl\n"
   ]
  },
  {
   "cell_type": "code",
   "execution_count": 13,
   "metadata": {
    "collapsed": false
   },
   "outputs": [
    {
     "data": {
      "text/plain": [
       "<matplotlib.colorbar.Colorbar at 0x115db9350>"
      ]
     },
     "execution_count": 13,
     "metadata": {},
     "output_type": "execute_result"
    },
    {
     "data": {
      "image/png": "[encoded data removed]",
      "text/plain": [
       "<matplotlib.figure.Figure at 0x113c48e50>"
      ]
     },
     "metadata": {},
     "output_type": "display_data"
    }
   ],
   "source": [
    "plt.figure()\n",
    "plt.pcolormesh(bpars[0],bpars[1],model_lnl)\n",
    "plt.gca().set_xlabel('log10(Lcoh/Mpc)')\n",
    "plt.gca().set_ylabel('log10(B/G)')\n",
    "plt.colorbar()"
   ]
  },
  {
   "cell_type": "code",
   "execution_count": null,
   "metadata": {
    "collapsed": true
   },
   "outputs": [],
   "source": []
  }
 ],
 "metadata": {
  "anaconda-cloud": {},
  "kernelspec": {
   "display_name": "Python [Root]",
   "language": "python",
   "name": "Python [Root]"
  },
  "language_info": {
   "codemirror_mode": {
    "name": "ipython",
    "version": 2
   },
   "file_extension": ".py",
   "mimetype": "text/x-python",
   "name": "python",
   "nbconvert_exporter": "python",
   "pygments_lexer": "ipython2",
   "version": "2.7.12"
  }
 },
 "nbformat": 4,
 "nbformat_minor": 0
}
