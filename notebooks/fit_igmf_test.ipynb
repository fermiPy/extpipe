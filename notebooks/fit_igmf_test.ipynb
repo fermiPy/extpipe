{
 "cells": [
  {
   "cell_type": "markdown",
   "metadata": {},
   "source": [
    "# Notebook to test the Fit of SEDs to an IGMF model"
   ]
  },
  {
   "cell_type": "markdown",
   "metadata": {},
   "source": [
    "Inspired from https://github.com/woodmd/haloanalysis/blob/master/haloanalysis/scripts/fit_igmf.py#L65-L66"
   ]
  },
  {
   "cell_type": "code",
   "execution_count": 1,
   "metadata": {
    "collapsed": true
   },
   "outputs": [],
   "source": [
    "%matplotlib inline"
   ]
  },
  {
   "cell_type": "code",
   "execution_count": 2,
   "metadata": {
    "collapsed": false
   },
   "outputs": [
    {
     "name": "stdout",
     "output_type": "stream",
     "text": [
      "The autoreload extension is already loaded. To reload it, use:\n",
      "  %reload_ext autoreload\n"
     ]
    }
   ],
   "source": [
    "%load_ext autoreload"
   ]
  },
  {
   "cell_type": "code",
   "execution_count": 3,
   "metadata": {
    "collapsed": true
   },
   "outputs": [],
   "source": [
    "%autoreload 2"
   ]
  },
  {
   "cell_type": "markdown",
   "metadata": {},
   "source": [
    "## Imports"
   ]
  },
  {
   "cell_type": "code",
   "execution_count": 4,
   "metadata": {
    "collapsed": true
   },
   "outputs": [],
   "source": [
    "import os\n",
    "import sys\n",
    "from collections import OrderedDict\n",
    "\n",
    "import yaml\n",
    "\n",
    "import numpy as np\n",
    "from astropy.io import fits\n",
    "from astropy.table import Table, Column, join, hstack, vstack\n",
    "import matplotlib.pyplot as plt\n",
    "import matplotlib\n",
    "\n",
    "import fermipy.utils as utils\n",
    "from fermipy.spectrum import *\n",
    "from fermipy.castro import CastroData\n",
    "\n",
    "from haloanalysis.utils import create_mask, load_source_rows\n",
    "from haloanalysis.sed import HaloSED\n",
    "from haloanalysis.model import CascModel, CascLike\n",
    "from haloanalysis.model import scan_igmf_likelihood"
   ]
  },
  {
   "cell_type": "markdown",
   "metadata": {},
   "source": [
    "## load the catalog"
   ]
  },
  {
   "cell_type": "markdown",
   "metadata": {},
   "source": [
    "Catalog file:"
   ]
  },
  {
   "cell_type": "code",
   "execution_count": 5,
   "metadata": {
    "collapsed": true
   },
   "outputs": [],
   "source": [
    "cat = '../data/table_std_psf0123_joint2a_stdmodel_lnl_v14.fits'"
   ]
  },
  {
   "cell_type": "code",
   "execution_count": 6,
   "metadata": {
    "collapsed": true
   },
   "outputs": [],
   "source": [
    "tab_pars = Table.read(cat,hdu='SCAN_PARS')\n",
    "tab_ebounds = Table.read(cat,hdu='EBOUNDS')"
   ]
  },
  {
   "cell_type": "code",
   "execution_count": 7,
   "metadata": {
    "collapsed": false
   },
   "outputs": [],
   "source": [
    "tables = [Table.read(cat,'CATALOG'),\n",
    "            Table.read(cat,'LIKELIHOOD'),\n",
    "            Table.read(cat,'SED')]"
   ]
  },
  {
   "cell_type": "code",
   "execution_count": 8,
   "metadata": {
    "collapsed": true
   },
   "outputs": [],
   "source": [
    "for i, t in enumerate(tables):\n",
    "    if 'NAME' in t.columns:\n",
    "        t['name'] = t['NAME']"
   ]
  },
  {
   "cell_type": "code",
   "execution_count": 9,
   "metadata": {
    "collapsed": false
   },
   "outputs": [
    {
     "name": "stdout",
     "output_type": "stream",
     "text": [
      "['FHES J2359.8-3736' 'FHES J0001.2-0746' 'FHES J0001.5+2113' ...,\n",
      " 'FHES J0538.0-6913' 'FHES J0535.6-6734' 'FHES J0524.7-6937']\n",
      "['3FGL J0000.2-3738' '3FGL J0001.2-0748' '3FGL J0001.4+2120' ..., 'LMC P2'\n",
      " 'LMC P3' 'LMC P4']\n",
      "['3FGL J0000.2-3738' '3FGL J0001.2-0748' '3FGL J0001.4+2120' ..., 'LMC P2'\n",
      " 'LMC P3' 'LMC P4']\n"
     ]
    }
   ],
   "source": [
    "print tables[0]['name'].data\n",
    "print tables[1]['name'].data\n",
    "print tables[2]['name'].data"
   ]
  },
  {
   "cell_type": "markdown",
   "metadata": {},
   "source": [
    "Remove identifier so in names so that join operation works"
   ]
  },
  {
   "cell_type": "code",
   "execution_count": 10,
   "metadata": {
    "collapsed": false
   },
   "outputs": [],
   "source": [
    "for i, t in enumerate(tables):\n",
    "    for j,n in enumerate(t['name']):\n",
    "        tables[i]['name'][j] = n[5:-2] ### WORK AROUND"
   ]
  },
  {
   "cell_type": "code",
   "execution_count": 11,
   "metadata": {
    "collapsed": false
   },
   "outputs": [
    {
     "name": "stdout",
     "output_type": "stream",
     "text": [
      "['J2359.8-37' 'J0001.2-07' 'J0001.5+21' ..., 'J0538.0-69' 'J0535.6-67'\n",
      " 'J0524.7-69']\n"
     ]
    }
   ],
   "source": [
    "print tables[0]['name'].data"
   ]
  },
  {
   "cell_type": "markdown",
   "metadata": {},
   "source": [
    "### join the tables -- DOES ONLY WORK WITH WORKAROUND ABOVE"
   ]
  },
  {
   "cell_type": "code",
   "execution_count": 12,
   "metadata": {
    "collapsed": false
   },
   "outputs": [
    {
     "name": "stderr",
     "output_type": "stream",
     "text": [
      "WARNING: MergeConflictWarning: Cannot merge meta key 'EXTNAME' types <type 'str'> and <type 'str'>, choosing EXTNAME='LIKELIHOOD' [astropy.utils.metadata]\n",
      "WARNING: MergeConflictWarning: Cannot merge meta key 'EXTNAME' types <type 'str'> and <type 'str'>, choosing EXTNAME='SED' [astropy.utils.metadata]\n"
     ]
    }
   ],
   "source": [
    "tab_casc = join(tables[0],tables[1]) # table is empty since 'name' names are different\n",
    "tab_casc = join(tab_casc,tables[2])"
   ]
  },
  {
   "cell_type": "code",
   "execution_count": 13,
   "metadata": {
    "collapsed": false
   },
   "outputs": [
    {
     "name": "stdout",
     "output_type": "stream",
     "text": [
      "(638,)\n"
     ]
    }
   ],
   "source": [
    "print tab_casc['name'].data.shape"
   ]
  },
  {
   "cell_type": "markdown",
   "metadata": {},
   "source": [
    "Load the TeV SEDs"
   ]
  },
  {
   "cell_type": "code",
   "execution_count": 14,
   "metadata": {
    "collapsed": false
   },
   "outputs": [],
   "source": [
    "tab_sed_tev = Table.read('../data/CompiledTeVSources.fits')"
   ]
  },
  {
   "cell_type": "code",
   "execution_count": 15,
   "metadata": {
    "collapsed": false
   },
   "outputs": [
    {
     "name": "stdout",
     "output_type": "stream",
     "text": [
      " 3FGL_NAME             SOURCE_FULL            ...   NORM_ERRN [25]  \n",
      "------------ -------------------------------- ... ------------------\n",
      "J0232.8+2016       1ES0229+200_HESS_2005-2006 ...  1.3277e-08 .. nan\n",
      "J0232.8+2016    1ES0229+200_VERITAS_2009-2012 ...     2.8e-08 .. nan\n",
      "J0349.2-1158      1ES0347-121_HESS_2006-09-12 ...  3.5758e-08 .. nan\n",
      "J0416.8+0104       1ES0414+009_HESS_2005-2009 ...   1.017e-07 .. nan\n",
      "J0416.8+0104    1ES0414+009_VERITAS_2008-2011 ...    1.09e-08 .. nan\n",
      "J0809.8+5218    1ES0806+524_VERITAS_2006-2008 ... 9.29454e-08 .. nan\n",
      "J1015.0+4925           1ES1011+496_MAGIC_2007 ...    1.69e-06 .. nan\n",
      "J1103.5-2329       1ES1101-232_HESS_2004-2005 ...  1.0851e-07 .. nan\n",
      "J1217.8+3007           1ES1215+303_MAGIC_2011 ...    1.53e-06 .. nan\n",
      "J1217.8+3007    1ES1215+303_VERITAS_2008-2012 ...  5.7133e-08 .. nan\n",
      "         ...                              ... ...                ...\n",
      "J2158.8-3013      PKS2155-304_HESS_2006-08-03 ...   2.947e-07 .. nan\n",
      "J2158.8-3013      PKS2155-304_HESS_2008-08-09 ...    9.93e-08 .. nan\n",
      "J2158.8-3013     PKS2155-304_MAGIC_2006-07_08 ...    8.22e-07 .. nan\n",
      "J0319.8+1847        RBS0413_VERITAS_2008-2009 ...    6.48e-08 .. nan\n",
      "J0152.6+0148           RGBJ0152+017_HESS_2007 ...   6.674e-08 .. nan\n",
      "J0710.3+5908   RGBJ0710+591_VERITAS_2008-2009 ...    3.62e-08 .. nan\n",
      "J0648.8+1516      RXJ0648.7+1516_VERITAS_2010 ...    4.18e-07 .. nan\n",
      "J0721.9+7120       S50716+714_MAGIC_2007-2008 ...    3.25e-06 .. nan\n",
      "J0013.9-1853 SHBLJ001355.9-185406_HESS_2008-2 ...   4.165e-09 .. nan\n",
      "J0521.7+2113   VERJ0521+211_VERITAS_2009-2010 ... 3.19506e-07 .. nan\n",
      "J1221.4+2814        WComae_VERITAS_2008-01-04 ... 2.23846e-07 .. nan\n",
      "Length = 106 rows\n"
     ]
    }
   ],
   "source": [
    "print tab_sed_tev"
   ]
  },
  {
   "cell_type": "markdown",
   "metadata": {},
   "source": [
    "### Load the IGMF model cube"
   ]
  },
  {
   "cell_type": "code",
   "execution_count": 17,
   "metadata": {
    "collapsed": false
   },
   "outputs": [
    {
     "name": "stderr",
     "output_type": "stream",
     "text": [
      "/afs/slac.stanford.edu/u/gl/mmeyer/projects/python/haloanalysis/haloanalysis/model.py:809: RuntimeWarning: invalid value encountered in divide\n",
      "  data_casc_flux = np.array(tab_casc_flux/tab_inj_flux[..., np.newaxis, np.newaxis])\n",
      "/afs/slac.stanford.edu/u/gl/mmeyer/projects/python/haloanalysis/haloanalysis/model.py:810: RuntimeWarning: invalid value encountered in divide\n",
      "  data_prim_flux = np.array(tab_prim_flux/tab_inj_flux)\n"
     ]
    }
   ],
   "source": [
    "casc_model = CascModel.create_from_fits(\n",
    "    '/nfs/farm/g/glast/u/mmeyer/projects/FermiHalo/Output/EBLm6/th_jet6.00/gam-2.00/results_merged_z_th6d_t1e7.fits',\n",
    ")"
   ]
  },
  {
   "cell_type": "code",
   "execution_count": 20,
   "metadata": {
    "collapsed": false
   },
   "outputs": [],
   "source": [
    "casc_model.set_eblmodel(eblmodel = 'dominguez')"
   ]
  },
  {
   "cell_type": "markdown",
   "metadata": {},
   "source": [
    "### Loop over the sources and perform the likelihood fit"
   ]
  },
  {
   "cell_type": "markdown",
   "metadata": {},
   "source": [
    "Spectra you want to include in the analysis"
   ]
  },
  {
   "cell_type": "code",
   "execution_count": 21,
   "metadata": {
    "collapsed": true
   },
   "outputs": [],
   "source": [
    "src_names = ['1ES0229+200_HESS_2005-2006']"
   ]
  },
  {
   "cell_type": "code",
   "execution_count": 22,
   "metadata": {
    "collapsed": true
   },
   "outputs": [],
   "source": [
    "nstep = 5\n",
    "casc_scale = 1.\n",
    "casc_r68_scale = 1."
   ]
  },
  {
   "cell_type": "code",
   "execution_count": 23,
   "metadata": {
    "collapsed": false
   },
   "outputs": [
    {
     "name": "stdout",
     "output_type": "stream",
     "text": [
      " 3FGL_NAME          SOURCE_FULL         ...   NORM_ERRP [25]    NORM_ERRN [25] \n",
      "------------ -------------------------- ... ----------------- -----------------\n",
      "J0232.8+2016 1ES0229+200_HESS_2005-2006 ... 1.3277e-08 .. nan 1.3277e-08 .. nan\n",
      "   name         codename     ...       dloglike_scan [20,9]     \n",
      "                             ...                                \n",
      "---------- ----------------- ... -------------------------------\n",
      "J0232.8+20 3fgl_j0232.8+2016 ... -4.2029670149 .. -2.70594689762\n",
      "   name         codename     ...       dloglike_scan [20,9]     \n",
      "                             ...                                \n",
      "---------- ----------------- ... -------------------------------\n",
      "J0232.8+20 3fgl_j0232.8+2016 ... -4.2029670149 .. -2.70594689762\n",
      "((0, 0), -65.160357820170816, [0.14000000000000001, -4.0, -20.0], [1.7781826364287957e-13, -1.6174113205437628, 4929568.6279378785])\n",
      "((0, 1), -66.836542031590739, [0.14000000000000001, -4.0, -18.0], [1.7762412008607477e-13, -1.6170279304050668, 4767466.1198864076])\n",
      "((0, 2), -66.83815682287144, [0.14000000000000001, -4.0, -16.0], [1.7738444004800579e-13, -1.6166937705650695, 4731065.6839127652])\n",
      "((0, 3), -43.494818195866571, [0.14000000000000001, -4.0, -14.0], [1.4117519672012145e-13, -1.5599374835585258, 4932934.8212527884])\n",
      "((0, 4), -1.3676466982752231, [0.14000000000000001, -4.0, -12.0], [1.4177680811967108e-13, -1.5665464849540465, 1000000000.0])\n",
      "((1, 0), -66.614325869801633, [0.14000000000000001, -2.0, -20.0], [1.7469007517898494e-13, -1.6131080125624144, 4703161.5979660433])\n",
      "((1, 1), -66.848921468377853, [0.14000000000000001, -2.0, -18.0], [1.7747582439015461e-13, -1.6168165000845958, 4783337.4357691128])\n",
      "((1, 2), -66.584487750577694, [0.14000000000000001, -2.0, -16.0], [1.7106289923039231e-13, -1.6078701827403796, 4569508.2096964689])\n",
      "((1, 3), -18.240996515859649, [0.14000000000000001, -2.0, -14.0], [1.4075447085082791e-13, -1.5562037539304123, 11252712.105404187])\n",
      "((1, 4), -0.16688540943351882, [0.14000000000000001, -2.0, -12.0], [1.4177664898770916e-13, -1.5665461991910119, 1000000000.0])\n",
      "((2, 0), -66.668118508718635, [0.14000000000000001, 0.0, -20.0], [1.7762864085326297e-13, -1.6170305047989149, 4751214.1980042029])\n",
      "((2, 1), -66.82630407688157, [0.14000000000000001, 0.0, -18.0], [1.7756404610205552e-13, -1.6169161773711491, 4734115.0822582236])\n",
      "((2, 2), -59.819590991028065, [0.14000000000000001, 0.0, -16.0], [1.4177370951790379e-13, -1.5657736695900173, 4142557.721222748])\n",
      "((2, 3), -13.509798510765393, [0.14000000000000001, 0.0, -14.0], [1.4142534479138305e-13, -1.5629162096494305, 19369145.190135602])\n",
      "((2, 4), -0.17338843595695153, [0.14000000000000001, 0.0, -12.0], [1.4177664742329643e-13, -1.566546201124744, 1000000000.0])\n",
      "((3, 0), -66.668039648633624, [0.14000000000000001, 2.0, -20.0], [1.7763353904161134e-13, -1.617035972731945, 4750712.1614743778])\n",
      "((3, 1), -66.69404454337041, [0.14000000000000001, 2.0, -18.0], [1.7744841660757729e-13, -1.6167132550183454, 4722723.2859606165])\n",
      "((3, 2), -59.662908508356736, [0.14000000000000001, 2.0, -16.0], [1.4176705531294116e-13, -1.5657329797328601, 4030484.8804183053])\n",
      "((3, 3), -13.509798510765393, [0.14000000000000001, 2.0, -14.0], [1.4142534479138305e-13, -1.5629162096494305, 19369145.190135602])\n",
      "((3, 4), -0.17338843595695153, [0.14000000000000001, 2.0, -12.0], [1.4177664742329643e-13, -1.566546201124744, 1000000000.0])\n",
      "((4, 0), -66.668039648633624, [0.14000000000000001, 4.0, -20.0], [1.7763353904161134e-13, -1.617035972731945, 4750712.1614743778])\n",
      "((4, 1), -66.69404454337041, [0.14000000000000001, 4.0, -18.0], [1.7744841660757729e-13, -1.6167132550183454, 4722723.2859606165])\n",
      "((4, 2), -59.662908508356736, [0.14000000000000001, 4.0, -16.0], [1.4176705531294116e-13, -1.5657329797328601, 4030484.8804183053])\n",
      "((4, 3), -13.509798510765393, [0.14000000000000001, 4.0, -14.0], [1.4142534479138305e-13, -1.5629162096494305, 19369145.190135602])\n",
      "((4, 4), -0.17338843595695153, [0.14000000000000001, 4.0, -12.0], [1.4177664742329643e-13, -1.566546201124744, 1000000000.0])\n"
     ]
    }
   ],
   "source": [
    "tab_igmf = []\n",
    "\n",
    "for name in src_names:\n",
    "\n",
    "    rows_sed_tev = load_source_rows(tab_sed_tev, [name], key='SOURCE_FULL')\n",
    "    #cat_names = [ 'FHES %s'%row['3FGL_NAME'] for row in rows_sed_tev ]\n",
    "    cat_names = [ '%s'%row['3FGL_NAME'][:-2] for row in rows_sed_tev ] # WORK AROUND\n",
    "    \n",
    "    cat_names = np.unique(np.array(cat_names))\n",
    "    rows_sed_gev = load_source_rows(tab_casc, cat_names, key='name')\n",
    "    rows_casc = load_source_rows(tab_casc, cat_names, key='name')\n",
    "    \n",
    "    print rows_sed_tev\n",
    "    print rows_sed_gev\n",
    "    print rows_casc\n",
    "    \n",
    "    tab = scan_igmf_likelihood(casc_model, rows_sed_tev, rows_sed_gev,\n",
    "                                rows_casc, tab_pars, tab_ebounds, nstep,\n",
    "                                casc_scale, casc_r68_scale)\n",
    "    #tab_igmf += [tab]"
   ]
  },
  {
   "cell_type": "markdown",
   "metadata": {},
   "source": [
    "((0, 0), -65.160357820170816, [0.14000000000000001, -4.0, -20.0], [1.7781826364287957e-13, -1.6174113205437628, 4929568.6279378785])"
   ]
  },
  {
   "cell_type": "code",
   "execution_count": null,
   "metadata": {
    "collapsed": true
   },
   "outputs": [],
   "source": []
  }
 ],
 "metadata": {
  "anaconda-cloud": {},
  "kernelspec": {
   "display_name": "Python [conda root]",
   "language": "python",
   "name": "conda-root-py"
  },
  "language_info": {
   "codemirror_mode": {
    "name": "ipython",
    "version": 2
   },
   "file_extension": ".py",
   "mimetype": "text/x-python",
   "name": "python",
   "nbconvert_exporter": "python",
   "pygments_lexer": "ipython2",
   "version": "2.7.12"
  }
 },
 "nbformat": 4,
 "nbformat_minor": 1
}
