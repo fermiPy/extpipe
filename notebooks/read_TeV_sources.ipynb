{
 "cells": [
  {
   "cell_type": "code",
   "execution_count": 1,
   "metadata": {
    "collapsed": false
   },
   "outputs": [],
   "source": [
    "import sys\n",
    "import glob\n",
    "import errno\n",
    "\n",
    "from astropy.io import ascii\n",
    "from astropy.table import Table, Column, join\n",
    "from astropy.io import fits\n",
    "import numpy as np\n",
    "\n",
    "#Function for easy column manipulation\n",
    "def column(matrix, i):\n",
    "    return[row[i] for row in matrix]\n",
    "\n",
    "#input and output files\n",
    "path = '../TeVSpectra/SpectraBW15/*.ecsv'\n",
    "files = glob.glob(path) \n",
    "rs=ascii.read('../TeVSpectra/SourcesBW15.ecsv')\n",
    "\n",
    "outfilename = 'CompiledTeVSources.fits'"
   ]
  },
  {
   "cell_type": "code",
   "execution_count": 2,
   "metadata": {
    "collapsed": true
   },
   "outputs": [],
   "source": [
    "#initialize\n",
    "f, cols, n, a, b, c, d = ([] for i in range(7))\n",
    "s, r, ra, dec, safe = ([] for i in range(5))\n",
    "\n",
    "#get redshift info\n",
    "s.append(column(rs,'SOURCE'))\n",
    "r.append(column(rs,'REDSHIFT'))\n",
    "ra.append(column(rs,'RA_J2000'))\n",
    "dec.append(column(rs,'DEC_J2000'))\n",
    "safe.append(column(rs,\"IS_REDSHIFT_SAFE\"))\n"
   ]
  },
  {
   "cell_type": "code",
   "execution_count": 3,
   "metadata": {
    "collapsed": true
   },
   "outputs": [],
   "source": [
    "#loop over files\n",
    "for i, name in enumerate(files):\n",
    "    f.append(ascii.read(name))\n",
    "    #get name for file\n",
    "    n.append(name[26:-5])\n",
    "    \n",
    "    #make all the columns the same length (fill extra slots with nan's)\n",
    "    for j in range(25-len(f[i])):\n",
    "        f[i].add_row([np.nan,np.nan,np.nan,np.nan])\n",
    "\n",
    "    a.append(column(f[i],'E_REF'))\n",
    "    b.append(column(f[i],'NORM'))\n",
    "    c.append(column(f[i],'NORM_ERRP'))\n",
    "    d.append(column(f[i],'NORM_ERRN'))\n"
   ]
  },
  {
   "cell_type": "code",
   "execution_count": 4,
   "metadata": {
    "collapsed": true
   },
   "outputs": [],
   "source": [
    "sf = [\"\" for x in range(len(n))]\n",
    "safef = [False for x in range(len(n))]\n",
    "rf, raf, decf = (np.full(len(n),np.nan) for i in range(3))\n",
    "\n",
    "for k in range(len(s[0])):\n",
    "    for kk in range(len(n)):\n",
    "        if s[0][k] in n[kk]:\n",
    "            #print s[0][k], n[kk]\n",
    "            sf[kk]=s[0][k] \n",
    "            rf[kk]=r[0][k]\n",
    "            raf[kk]=ra[0][k] \n",
    "            decf[kk]=dec[0][k] \n",
    "            safef[kk]=safe[0][k]    \n"
   ]
  },
  {
   "cell_type": "code",
   "execution_count": 5,
   "metadata": {
    "collapsed": false
   },
   "outputs": [],
   "source": [
    "#Building columns for table\n",
    "cols =  [Column(name='SOURCE_FULL',dtype='S32',data=n)]\n",
    "cols += [Column(name='SOURCE',dtype='S32',data=sf)]\n",
    "cols += [Column(name='REDSHIFT',dtype='f8',data=rf)]\n",
    "cols += [Column(name='RA_J2000',dtype='f8',data=raf)]\n",
    "cols += [Column(name='DEC_J2000',dtype='f8',data=decf)]\n",
    "cols += [Column(name='IS_REDSHIFT_SAFE',dtype='bool',data=safef)]\n",
    "cols += [Column(name='E_REF',dtype='f8',data=a)]\n",
    "cols += [Column(name='NORM',dtype='f8',data=b)]\n",
    "cols += [Column(name='NORM_ERRP',dtype='f8',data=c)]\n",
    "cols += [Column(name='NORM_ERRN',dtype='f8',data=d)]\n",
    "t = Table(cols)"
   ]
  },
  {
   "cell_type": "code",
   "execution_count": 10,
   "metadata": {
    "collapsed": false
   },
   "outputs": [
    {
     "name": "stdout",
     "output_type": "stream",
     "text": [
      "          SOURCE_FULL                   SOURCE        ...   NORM_ERRN [25]  \n",
      "-------------------------------- -------------------- ... ------------------\n",
      "      1ES0229+200_HESS_2005-2006          1ES0229+200 ...  1.3277e-08 .. nan\n",
      "   1ES0229+200_VERITAS_2009-2012          1ES0229+200 ...     2.8e-08 .. nan\n",
      "     1ES0347-121_HESS_2006-09-12          1ES0347-121 ...  3.5758e-08 .. nan\n",
      "      1ES0414+009_HESS_2005-2009          1ES0414+009 ...   1.017e-07 .. nan\n",
      "   1ES0414+009_VERITAS_2008-2011          1ES0414+009 ...    1.09e-08 .. nan\n",
      "   1ES0806+524_VERITAS_2006-2008          1ES0806+524 ... 9.29454e-08 .. nan\n",
      "          1ES1011+496_MAGIC_2007          1ES1011+496 ...    1.69e-06 .. nan\n",
      "      1ES1101-232_HESS_2004-2005          1ES1101-232 ...  1.0851e-07 .. nan\n",
      "          1ES1215+303_MAGIC_2011          1ES1215+303 ...    1.53e-06 .. nan\n",
      "   1ES1215+303_VERITAS_2008-2012          1ES1215+303 ...  5.7133e-08 .. nan\n",
      "                             ...                  ... ...                ...\n",
      "     PKS2155-304_HESS_2006-08-03          PKS2155-304 ...   2.947e-07 .. nan\n",
      "     PKS2155-304_HESS_2008-08-09          PKS2155-304 ...    9.93e-08 .. nan\n",
      "    PKS2155-304_MAGIC_2006-07_08          PKS2155-304 ...    8.22e-07 .. nan\n",
      "       RBS0413_VERITAS_2008-2009              RBS0413 ...    6.48e-08 .. nan\n",
      "          RGBJ0152+017_HESS_2007         RGBJ0152+017 ...   6.674e-08 .. nan\n",
      "  RGBJ0710+591_VERITAS_2008-2009         RGBJ0710+591 ...    3.62e-08 .. nan\n",
      "     RXJ0648.7+1516_VERITAS_2010       RXJ0648.7+1516 ...    4.18e-07 .. nan\n",
      "      S50716+714_MAGIC_2007-2008           S50716+714 ...    3.25e-06 .. nan\n",
      "SHBLJ001355.9-185406_HESS_2008-2 SHBLJ001355.9-185406 ...   4.165e-09 .. nan\n",
      "  VERJ0521+211_VERITAS_2009-2010         VERJ0521+211 ... 3.19506e-07 .. nan\n",
      "       WComae_VERITAS_2008-01-04               WComae ... 2.23846e-07 .. nan\n",
      "Length = 106 rows\n"
     ]
    }
   ],
   "source": [
    "print t\n",
    "t.write(outfilename,format='fits',overwrite=True)"
   ]
  },
  {
   "cell_type": "code",
   "execution_count": null,
   "metadata": {
    "collapsed": true
   },
   "outputs": [],
   "source": []
  }
 ],
 "metadata": {
  "kernelspec": {
   "display_name": "Python 2",
   "language": "python",
   "name": "python2"
  },
  "language_info": {
   "codemirror_mode": {
    "name": "ipython",
    "version": 2
   },
   "file_extension": ".py",
   "mimetype": "text/x-python",
   "name": "python",
   "nbconvert_exporter": "python",
   "pygments_lexer": "ipython2",
   "version": "2.7.12"
  }
 },
 "nbformat": 4,
 "nbformat_minor": 0
}
