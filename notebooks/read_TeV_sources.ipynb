{
 "cells": [
  {
   "cell_type": "code",
   "execution_count": 1,
   "metadata": {
    "collapsed": false
   },
   "outputs": [],
   "source": [
    "import sys\n",
    "import glob\n",
    "import errno\n",
    "\n",
    "from astropy.io import ascii\n",
    "from astropy.table import Table, Column, join\n",
    "from astropy.io import fits\n",
    "import numpy as np\n",
    "\n",
    "#Function for easy column manipulation\n",
    "def column(matrix, i):\n",
    "    return[row[i] for row in matrix]\n",
    "\n",
    "#input and output files\n",
    "path = '../data/TeVSpectra/SpectraBW15/*.ecsv'\n",
    "files = glob.glob(path) \n",
    "rs=ascii.read('../data/TeVSpectra/SourcesBW15_v2.ecsv')\n",
    "\n",
    "outfilename = '../data/CompiledTeVSources.fits'"
   ]
  },
  {
   "cell_type": "code",
   "execution_count": 2,
   "metadata": {
    "collapsed": true
   },
   "outputs": [],
   "source": [
    "#initialize\n",
    "f, cols, n, a, b, c, d = ([] for i in range(7))\n",
    "s, r, ra, dec, safe, fgl = ([] for i in range(6))\n",
    "\n",
    "#get redshift info\n",
    "s.append(column(rs,'SOURCE'))\n",
    "r.append(column(rs,'REDSHIFT'))\n",
    "ra.append(column(rs,'RA_J2000'))\n",
    "dec.append(column(rs,'DEC_J2000'))\n",
    "safe.append(column(rs,'IS_REDSHIFT_SAFE'))\n",
    "fgl.append(column(rs,'3FGL_NAME'))\n"
   ]
  },
  {
   "cell_type": "code",
   "execution_count": 3,
   "metadata": {
    "collapsed": true
   },
   "outputs": [],
   "source": [
    "#loop over files\n",
    "for i, name in enumerate(files):\n",
    "    f.append(ascii.read(name))\n",
    "    #get name for file\n",
    "    n.append(name[31:-5])\n",
    "    \n",
    "    #make all the columns the same length (fill extra slots with nan's)\n",
    "    for j in range(25-len(f[i])):\n",
    "        f[i].add_row([np.nan,np.nan,np.nan,np.nan])\n",
    "\n",
    "    a.append(column(f[i],'E_REF'))\n",
    "    b.append(column(f[i],'NORM'))\n",
    "    c.append(column(f[i],'NORM_ERRP'))\n",
    "    d.append(column(f[i],'NORM_ERRN'))\n"
   ]
  },
  {
   "cell_type": "code",
   "execution_count": 4,
   "metadata": {
    "collapsed": true
   },
   "outputs": [],
   "source": [
    "sf = [\"\" for x in range(len(n))]\n",
    "fglf=[\"\" for y in range(len(n))]\n",
    "safef = [False for x in range(len(n))]\n",
    "rf, raf, decf = (np.full(len(n),np.nan) for i in range(3))\n",
    "\n",
    "for k in range(len(s[0])):\n",
    "    for kk in range(len(n)):\n",
    "        if s[0][k] in n[kk]:\n",
    "            #print s[0][k], n[kk]\n",
    "            sf[kk]=s[0][k] \n",
    "            rf[kk]=r[0][k]\n",
    "            raf[kk]=ra[0][k] \n",
    "            decf[kk]=dec[0][k] \n",
    "            safef[kk]=safe[0][k] \n",
    "            fglf[kk]=fgl[0][k]\n"
   ]
  },
  {
   "cell_type": "code",
   "execution_count": 5,
   "metadata": {
    "collapsed": false
   },
   "outputs": [],
   "source": [
    "#Building columns for table\n",
    "cols =  [Column(name='3FGL_NAME',dtype='S32',data=fglf)]\n",
    "cols += [Column(name='SOURCE_FULL',dtype='S32',data=n)]\n",
    "cols += [Column(name='SOURCE',dtype='S32',data=sf)]\n",
    "cols += [Column(name='REDSHIFT',dtype='f8',data=rf)]\n",
    "cols += [Column(name='RA_J2000',dtype='f8',data=raf)]\n",
    "cols += [Column(name='DEC_J2000',dtype='f8',data=decf)]\n",
    "cols += [Column(name='IS_REDSHIFT_SAFE',dtype='bool',data=safef)]\n",
    "cols += [Column(name='E_REF',dtype='f8',data=a)]\n",
    "cols += [Column(name='NORM',dtype='f8',data=b)]\n",
    "cols += [Column(name='NORM_ERRP',dtype='f8',data=c)]\n",
    "cols += [Column(name='NORM_ERRN',dtype='f8',data=d)]\n",
    "t = Table(cols)"
   ]
  },
  {
   "cell_type": "code",
   "execution_count": 6,
   "metadata": {
    "collapsed": false
   },
   "outputs": [
    {
     "name": "stdout",
     "output_type": "stream",
     "text": [
      " 3FGL_NAME             SOURCE_FULL            ...   NORM_ERRN [25]  \n",
      "------------ -------------------------------- ... ------------------\n",
      "J0232.8+2016       1ES0229+200_HESS_2005-2006 ...  1.3277e-08 .. nan\n",
      "J0232.8+2016    1ES0229+200_VERITAS_2009-2012 ...     2.8e-08 .. nan\n",
      "J0349.2-1158      1ES0347-121_HESS_2006-09-12 ...  3.5758e-08 .. nan\n",
      "J0416.8+0104       1ES0414+009_HESS_2005-2009 ...   1.017e-07 .. nan\n",
      "J0416.8+0104    1ES0414+009_VERITAS_2008-2011 ...    1.09e-08 .. nan\n",
      "J0809.8+5218    1ES0806+524_VERITAS_2006-2008 ... 9.29454e-08 .. nan\n",
      "J1015.0+4925           1ES1011+496_MAGIC_2007 ...    1.69e-06 .. nan\n",
      "J1103.5-2329       1ES1101-232_HESS_2004-2005 ...  1.0851e-07 .. nan\n",
      "J1217.8+3007           1ES1215+303_MAGIC_2011 ...    1.53e-06 .. nan\n",
      "J1217.8+3007    1ES1215+303_VERITAS_2008-2012 ...  5.7133e-08 .. nan\n",
      "         ...                              ... ...                ...\n",
      "J2158.8-3013      PKS2155-304_HESS_2006-08-03 ...   2.947e-07 .. nan\n",
      "J2158.8-3013      PKS2155-304_HESS_2008-08-09 ...    9.93e-08 .. nan\n",
      "J2158.8-3013     PKS2155-304_MAGIC_2006-07_08 ...    8.22e-07 .. nan\n",
      "J0319.8+1847        RBS0413_VERITAS_2008-2009 ...    6.48e-08 .. nan\n",
      "J0152.6+0148           RGBJ0152+017_HESS_2007 ...   6.674e-08 .. nan\n",
      "J0710.3+5908   RGBJ0710+591_VERITAS_2008-2009 ...    3.62e-08 .. nan\n",
      "J0648.8+1516      RXJ0648.7+1516_VERITAS_2010 ...    4.18e-07 .. nan\n",
      "J0721.9+7120       S50716+714_MAGIC_2007-2008 ...    3.25e-06 .. nan\n",
      "J0013.9-1853 SHBLJ001355.9-185406_HESS_2008-2 ...   4.165e-09 .. nan\n",
      "J0521.7+2113   VERJ0521+211_VERITAS_2009-2010 ... 3.19506e-07 .. nan\n",
      "J1221.4+2814        WComae_VERITAS_2008-01-04 ... 2.23846e-07 .. nan\n",
      "Length = 106 rows\n"
     ]
    }
   ],
   "source": [
    "print t\n",
    "t.write(outfilename,format='fits',overwrite=True)"
   ]
  },
  {
   "cell_type": "code",
   "execution_count": null,
   "metadata": {
    "collapsed": true
   },
   "outputs": [],
   "source": []
  }
 ],
 "metadata": {
  "kernelspec": {
   "display_name": "Python 2",
   "language": "python",
   "name": "python2"
  },
  "language_info": {
   "codemirror_mode": {
    "name": "ipython",
    "version": 2
   },
   "file_extension": ".py",
   "mimetype": "text/x-python",
   "name": "python",
   "nbconvert_exporter": "python",
   "pygments_lexer": "ipython2",
   "version": "2.7.12"
  }
 },
 "nbformat": 4,
 "nbformat_minor": 0
}
