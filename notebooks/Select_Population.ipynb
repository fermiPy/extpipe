{
 "cells": [
  {
   "cell_type": "markdown",
   "metadata": {},
   "source": [
    "With this notebook you can subselect TeV sources for the stacked analysis of the catalog and rank TeV sources for the IGMF analysis"
   ]
  },
  {
   "cell_type": "markdown",
   "metadata": {},
   "source": [
    "# Imports"
   ]
  },
  {
   "cell_type": "code",
   "execution_count": 1,
   "metadata": {
    "collapsed": true
   },
   "outputs": [],
   "source": [
    "import os\n",
    "import sys\n",
    "from collections import OrderedDict\n",
    "\n",
    "import yaml\n",
    "\n",
    "import numpy as np\n",
    "from astropy.io import fits\n",
    "from astropy.table import Table, Column, join, hstack, vstack\n",
    "\n",
    "from haloanalysis.utils import create_mask, load_source_rows\n",
    "from haloanalysis.sed import HaloSED\n",
    "from haloanalysis.model import CascModel, CascLike\n",
    "from haloanalysis.model import scan_igmf_likelihood\n",
    "from haloanalysis.sed import SED\n",
    "\n",
    "from ebltable.tau_from_model import OptDepth\n",
    "from haloanalysis.utils import create_mask"
   ]
  },
  {
   "cell_type": "code",
   "execution_count": 2,
   "metadata": {
    "collapsed": true
   },
   "outputs": [],
   "source": [
    "import re"
   ]
  },
  {
   "cell_type": "code",
   "execution_count": 3,
   "metadata": {
    "collapsed": true
   },
   "outputs": [],
   "source": [
    "%matplotlib inline"
   ]
  },
  {
   "cell_type": "markdown",
   "metadata": {},
   "source": [
    "# Loading the FHES catalog"
   ]
  },
  {
   "cell_type": "code",
   "execution_count": 4,
   "metadata": {
    "collapsed": true
   },
   "outputs": [],
   "source": [
    "cat = '../data/table_std_psf0123_joint2a_stdmodel_cat_v15.fits'"
   ]
  },
  {
   "cell_type": "code",
   "execution_count": 5,
   "metadata": {
    "collapsed": false
   },
   "outputs": [],
   "source": [
    "t = Table.read(cat, hdu = 'CATALOG')"
   ]
  },
  {
   "cell_type": "markdown",
   "metadata": {},
   "source": [
    "### Performing cuts to define samples for stacked analysis"
   ]
  },
  {
   "cell_type": "code",
   "execution_count": 6,
   "metadata": {
    "collapsed": true
   },
   "outputs": [],
   "source": [
    "mask_str = [\n",
    "        {'HBL' : ' (nupeak > 1e15 ) & (var_index < 100.)'},\n",
    "        {'HBL $z < 0.2$' : ' (nupeak > 1e15 ) & (var_index < 100.) & (redshift <= 0.2)'},\n",
    "        {'XHBL' : '  (nupeak > 1e17 ) & (var_index < 100.) & (3lac_fx_fr > 1e4)'},\n",
    "        {'LBL $z > 0.5$' : '  (nupeak <= 1e13 ) & (redshift > 0.5) & (3lac_fx_fr < 1e4)'}\n",
    "        ]"
   ]
  },
  {
   "cell_type": "code",
   "execution_count": 7,
   "metadata": {
    "collapsed": false,
    "scrolled": true
   },
   "outputs": [
    {
     "name": "stdout",
     "output_type": "stream",
     "text": [
      "Cutting on expression  (tab['nupeak'] > 1e15 ) & (tab['var_index'] < 100.)\n",
      "surviving sources 402\n",
      "Cutting on expression  (tab['nupeak'] > 1e15 ) & (tab['var_index'] < 100.) & (tab['redshift'] <= 0.2)\n",
      "surviving sources 68\n",
      "Cutting on expression   (tab['nupeak'] > 1e17 ) & (tab['var_index'] < 100.) & (tab['3lac_fx_fr'] > 1e4)\n",
      "surviving sources 25\n",
      "Cutting on expression   (tab['nupeak'] <= 1e13 ) & (tab['redshift'] > 0.5) & (tab['3lac_fx_fr'] < 1e4)\n",
      "surviving sources 54\n"
     ]
    },
    {
     "name": "stderr",
     "output_type": "stream",
     "text": [
      "/u/gl/mmeyer/projects/python/haloanalysis/haloanalysis/utils.py:1: RuntimeWarning: invalid value encountered in greater\n",
      "  import copy\n",
      "/u/gl/mmeyer/projects/python/haloanalysis/haloanalysis/utils.py:1: RuntimeWarning: invalid value encountered in less\n",
      "  import copy\n",
      "/u/gl/mmeyer/projects/python/haloanalysis/haloanalysis/utils.py:1: RuntimeWarning: invalid value encountered in less_equal\n",
      "  import copy\n"
     ]
    }
   ],
   "source": [
    "mask = []\n",
    "for m in mask_str:\n",
    "    mask.append(create_mask(t,m))\n",
    "    print 'surviving sources', np.sum(mask[-1])"
   ]
  },
  {
   "cell_type": "markdown",
   "metadata": {},
   "source": [
    "Show the redshift distributions after the cuts:"
   ]
  },
  {
   "cell_type": "code",
   "execution_count": 8,
   "metadata": {
    "collapsed": false
   },
   "outputs": [
    {
     "data": {
      "image/png": "[encoded data removed]",
      "text/plain": [
       "<matplotlib.figure.Figure at 0x7f1753bbfad0>"
      ]
     },
     "metadata": {},
     "output_type": "display_data"
    }
   ],
   "source": [
    "color = ['k','r','b','g']\n",
    "hatch = ['//','\\\\','||','-']\n",
    "#t['redshift'][np.isnan(t['redshift'])] = np.ones(np.sum(np.isnan(t['redshift']))) * -0.1\n",
    "for i,m in enumerate(mask):\n",
    "    if not i:\n",
    "        n,bins, patches = plt.hist(t['redshift'][m & np.isfinite(t['redshift'])], \n",
    "                               bins = 15, normed = False, stacked = False, #range = (-0.1,2.5), \n",
    "                                   label = mask_str[i].keys()[0],\n",
    "                                  edgecolor = color[i], facecolor = 'None', lw = 2, hatch = hatch[i])\n",
    "    else:\n",
    "        n,bins, patches = plt.hist(t['redshift'][m& np.isfinite(t['redshift'])], \n",
    "                               bins = bins, normed = False, stacked = False, label = mask_str[i].keys()[0],\n",
    "                                  edgecolor = color[i], facecolor = 'None', lw = 2, hatch = hatch[i])\n",
    "\n",
    "plt.grid(True)\n",
    "plt.legend(loc=0)\n",
    "plt.xlabel('Redshift')\n",
    "plt.savefig('redshift_dist_mask.png', format = 'png', dpi = 200)"
   ]
  },
  {
   "cell_type": "markdown",
   "metadata": {},
   "source": [
    "# Loading the TeV sources "
   ]
  },
  {
   "cell_type": "code",
   "execution_count": 9,
   "metadata": {
    "collapsed": true
   },
   "outputs": [],
   "source": [
    "tau = OptDepth.readmodel(model = 'dominguez')"
   ]
  },
  {
   "cell_type": "code",
   "execution_count": 10,
   "metadata": {
    "collapsed": true
   },
   "outputs": [],
   "source": [
    "cat_tev = Table.read('../data/CompiledTeVSources.fits')"
   ]
  },
  {
   "cell_type": "markdown",
   "metadata": {},
   "source": [
    "add suffix 3FGL to TeV catalog:"
   ]
  },
  {
   "cell_type": "code",
   "execution_count": 11,
   "metadata": {
    "collapsed": true
   },
   "outputs": [],
   "source": [
    "for i,n in enumerate(cat_tev['3FGL_NAME']):\n",
    "    cat_tev['3FGL_NAME'][i] = '3FGL ' + n"
   ]
  },
  {
   "cell_type": "markdown",
   "metadata": {},
   "source": [
    "make a table with 3FGL names and their var index and join with tev table"
   ]
  },
  {
   "cell_type": "code",
   "execution_count": 12,
   "metadata": {
    "collapsed": true
   },
   "outputs": [],
   "source": [
    "tfhes_var = Table([t['name_3fgl'],t['var_index']], names = ['3FGL_NAME', 'var_index'])"
   ]
  },
  {
   "cell_type": "code",
   "execution_count": 13,
   "metadata": {
    "collapsed": false
   },
   "outputs": [],
   "source": [
    "cat_tev = join(cat_tev,tfhes_var)"
   ]
  },
  {
   "cell_type": "markdown",
   "metadata": {},
   "source": [
    "Get the optical depth"
   ]
  },
  {
   "cell_type": "code",
   "execution_count": 14,
   "metadata": {
    "collapsed": false
   },
   "outputs": [],
   "source": [
    "m = np.isfinite(cat_tev['E_REF'].data) \n",
    "taus = []\n",
    "for i,z in enumerate(cat_tev['REDSHIFT'].data):\n",
    "    taus.append(tau.opt_depth(z,cat_tev['E_REF'].data[i,m[i]]))\n",
    "taus = np.array(taus)"
   ]
  },
  {
   "cell_type": "code",
   "execution_count": 15,
   "metadata": {
    "collapsed": false
   },
   "outputs": [],
   "source": [
    "tau_max = np.array([tm[-1] for tm in taus])"
   ]
  },
  {
   "cell_type": "markdown",
   "metadata": {},
   "source": [
    "Cuts on the TeV catalog:"
   ]
  },
  {
   "cell_type": "code",
   "execution_count": 16,
   "metadata": {
    "collapsed": false
   },
   "outputs": [
    {
     "name": "stdout",
     "output_type": "stream",
     "text": [
      "Cutting on expression (tab['IS_REDSHIFT_SAFE'] == 1) & (tab['var_index'] < 100)\n"
     ]
    }
   ],
   "source": [
    "c = {'var_zsafe' : '(IS_REDSHIFT_SAFE == 1) & (var_index < 100)'}\n",
    "mtev = create_mask(cat_tev,c )"
   ]
  },
  {
   "cell_type": "code",
   "execution_count": 17,
   "metadata": {
    "collapsed": false
   },
   "outputs": [],
   "source": [
    "mtev = (tau_max > 2.) & mtev"
   ]
  },
  {
   "cell_type": "markdown",
   "metadata": {},
   "source": [
    "Remove sources by hand, e.g. because of variability, not well constrained redshift, etc."
   ]
  },
  {
   "cell_type": "code",
   "execution_count": 18,
   "metadata": {
    "collapsed": false
   },
   "outputs": [],
   "source": [
    "for i,n in enumerate(cat_tev['SOURCE_FULL'].data):\n",
    "    # remove sources with only LL on z:\n",
    "    if n.find('1553') >= 0 or n.find('1424') >= 0: mtev[i] = False\n",
    "    # remove highly variable sources -- this should be clearer defined\n",
    "    #if n.find('279') >= 0 or n.find('2155') >= 0 or n.lower().find('mkn') >= 0: mtev[i] = False\n",
    "    # fit fails:\n",
    "    if n.find('0710') >= 0: mtev[i] = False"
   ]
  },
  {
   "cell_type": "markdown",
   "metadata": {},
   "source": [
    "Remove the rows that fail the cuts from the table:"
   ]
  },
  {
   "cell_type": "code",
   "execution_count": 19,
   "metadata": {
    "collapsed": false
   },
   "outputs": [],
   "source": [
    "idx = np.arange(mtev.shape[0], dtype = np.int)[np.invert(mtev)]"
   ]
  },
  {
   "cell_type": "code",
   "execution_count": 20,
   "metadata": {
    "collapsed": false
   },
   "outputs": [],
   "source": [
    "cat_tev.remove_rows(idx)"
   ]
  },
  {
   "cell_type": "markdown",
   "metadata": {},
   "source": [
    "print catalog and save to file"
   ]
  },
  {
   "cell_type": "code",
   "execution_count": 22,
   "metadata": {
    "collapsed": false
   },
   "outputs": [
    {
     "name": "stdout",
     "output_type": "stream",
     "text": [
      "    3FGL_NAME               SOURCE_FULL            ...   var_index  \n",
      "----------------- -------------------------------- ... -------------\n",
      "3FGL J0232.8+2016       1ES0229+200_HESS_2005-2006 ... 49.1630897522\n",
      "3FGL J0232.8+2016    1ES0229+200_VERITAS_2009-2012 ... 49.1630897522\n",
      "3FGL J0349.2-1158      1ES0347-121_HESS_2006-09-12 ... 44.2567939758\n",
      "3FGL J0416.8+0104    1ES0414+009_VERITAS_2008-2011 ... 55.8486251831\n",
      "3FGL J0416.8+0104       1ES0414+009_HESS_2005-2009 ... 55.8486251831\n",
      "3FGL J1010.2-3120 1RXSJ101015.9-311909_HESS_2006-2 ... 86.2991027832\n",
      "3FGL J1103.5-2329       1ES1101-232_HESS_2004-2005 ... 36.5130081177\n",
      "3FGL J1221.3+3010    1ES1218+304_VERITAS_2008-2009 ... 92.4541015625\n",
      "3FGL J1221.3+3010         1ES1218+304_VERITAS_2007 ... 92.4541015625\n",
      "3FGL J1314.7-4237       1ES1312-423_HESS_2004-2010 ... 45.0239028931\n",
      "3FGL J1428.5+4240        H1426+428_HEGRA_1999_2000 ... 59.4608573914\n",
      "3FGL J1428.5+4240             H1426+428_HEGRA_2002 ... 59.4608573914\n",
      "3FGL J2359.3-3038              H2356-309_HESS_2006 ... 40.9670219421\n",
      "3FGL J2359.3-3038              H2356-309_HESS_2005 ... 40.9670219421\n",
      "3FGL J2359.3-3038              H2356-309_HESS_2004 ... 40.9670219421\n"
     ]
    }
   ],
   "source": [
    "cat_tev.write('../data/TeV_sources_cut_{0:s}.fits'.format(c.keys()[0]), overwrite = True)\n",
    "print cat_tev"
   ]
  },
  {
   "cell_type": "code",
   "execution_count": 1,
   "metadata": {
    "collapsed": false
   },
   "outputs": [
    {
     "name": "stdout",
     "output_type": "stream",
     "text": [
      "Help on built-in function array in module numpy.core.multiarray:\n",
      "\n",
      "array(...)\n",
      "    array(object, dtype=None, copy=True, order=None, subok=False, ndmin=0)\n",
      "    \n",
      "    Create an array.\n",
      "    \n",
      "    Parameters\n",
      "    ----------\n",
      "    object : array_like\n",
      "        An array, any object exposing the array interface, an\n",
      "        object whose __array__ method returns an array, or any\n",
      "        (nested) sequence.\n",
      "    dtype : data-type, optional\n",
      "        The desired data-type for the array.  If not given, then\n",
      "        the type will be determined as the minimum type required\n",
      "        to hold the objects in the sequence.  This argument can only\n",
      "        be used to 'upcast' the array.  For downcasting, use the\n",
      "        .astype(t) method.\n",
      "    copy : bool, optional\n",
      "        If true (default), then the object is copied.  Otherwise, a copy\n",
      "        will only be made if __array__ returns a copy, if obj is a\n",
      "        nested sequence, or if a copy is needed to satisfy any of the other\n",
      "        requirements (`dtype`, `order`, etc.).\n",
      "    order : {'C', 'F', 'A'}, optional\n",
      "        Specify the order of the array.  If order is 'C', then the array\n",
      "        will be in C-contiguous order (last-index varies the fastest).\n",
      "        If order is 'F', then the returned array will be in\n",
      "        Fortran-contiguous order (first-index varies the fastest).\n",
      "        If order is 'A' (default), then the returned array may be\n",
      "        in any order (either C-, Fortran-contiguous, or even discontiguous),\n",
      "        unless a copy is required, in which case it will be C-contiguous.\n",
      "    subok : bool, optional\n",
      "        If True, then sub-classes will be passed-through, otherwise\n",
      "        the returned array will be forced to be a base-class array (default).\n",
      "    ndmin : int, optional\n",
      "        Specifies the minimum number of dimensions that the resulting\n",
      "        array should have.  Ones will be pre-pended to the shape as\n",
      "        needed to meet this requirement.\n",
      "    \n",
      "    Returns\n",
      "    -------\n",
      "    out : ndarray\n",
      "        An array object satisfying the specified requirements.\n",
      "    \n",
      "    See Also\n",
      "    --------\n",
      "    empty, empty_like, zeros, zeros_like, ones, ones_like, fill\n",
      "    \n",
      "    Examples\n",
      "    --------\n",
      "    >>> np.array([1, 2, 3])\n",
      "    array([1, 2, 3])\n",
      "    \n",
      "    Upcasting:\n",
      "    \n",
      "    >>> np.array([1, 2, 3.0])\n",
      "    array([ 1.,  2.,  3.])\n",
      "    \n",
      "    More than one dimension:\n",
      "    \n",
      "    >>> np.array([[1, 2], [3, 4]])\n",
      "    array([[1, 2],\n",
      "           [3, 4]])\n",
      "    \n",
      "    Minimum dimensions 2:\n",
      "    \n",
      "    >>> np.array([1, 2, 3], ndmin=2)\n",
      "    array([[1, 2, 3]])\n",
      "    \n",
      "    Type provided:\n",
      "    \n",
      "    >>> np.array([1, 2, 3], dtype=complex)\n",
      "    array([ 1.+0.j,  2.+0.j,  3.+0.j])\n",
      "    \n",
      "    Data-type consisting of more than one element:\n",
      "    \n",
      "    >>> x = np.array([(1,2),(3,4)],dtype=[('a','<i4'),('b','<i4')])\n",
      "    >>> x['a']\n",
      "    array([1, 3])\n",
      "    \n",
      "    Creating an array from sub-classes:\n",
      "    \n",
      "    >>> np.array(np.mat('1 2; 3 4'))\n",
      "    array([[1, 2],\n",
      "           [3, 4]])\n",
      "    \n",
      "    >>> np.array(np.mat('1 2; 3 4'), subok=True)\n",
      "    matrix([[1, 2],\n",
      "            [3, 4]])\n",
      "\n"
     ]
    }
   ],
   "source": [
    "help(np.array)"
   ]
  },
  {
   "cell_type": "code",
   "execution_count": null,
   "metadata": {
    "collapsed": true
   },
   "outputs": [],
   "source": []
  }
 ],
 "metadata": {
  "anaconda-cloud": {},
  "kernelspec": {
   "display_name": "Python [conda root]",
   "language": "python",
   "name": "conda-root-py"
  },
  "language_info": {
   "codemirror_mode": {
    "name": "ipython",
    "version": 2
   },
   "file_extension": ".py",
   "mimetype": "text/x-python",
   "name": "python",
   "nbconvert_exporter": "python",
   "pygments_lexer": "ipython2",
   "version": "2.7.12"
  }
 },
 "nbformat": 4,
 "nbformat_minor": 1
}
